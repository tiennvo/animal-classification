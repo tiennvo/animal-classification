{
 "cells": [
  {
   "cell_type": "code",
   "execution_count": 1,
   "metadata": {
    "_cell_guid": "b1076dfc-b9ad-4769-8c92-a6c4dae69d19",
    "_uuid": "8f2839f25d086af736a60e9eeb907d3b93b6e0e5",
    "execution": {
     "iopub.execute_input": "2023-09-03T13:21:31.353280Z",
     "iopub.status.busy": "2023-09-03T13:21:31.352895Z",
     "iopub.status.idle": "2023-09-03T13:21:31.359085Z",
     "shell.execute_reply": "2023-09-03T13:21:31.357967Z",
     "shell.execute_reply.started": "2023-09-03T13:21:31.353250Z"
    },
    "trusted": true
   },
   "outputs": [],
   "source": [
    "# %pip install numpy opencv-python matplotlib\n",
    "# %pip install keras\n",
    "\n",
    "import numpy as np\n",
    "import os\n",
    "import cv2\n",
    "import matplotlib.pyplot as plt\n",
    "import pickle\n",
    "\n",
    "DIRECTORY = os.path.join(os.getcwd(), 'dogscats', 'train')\n",
    "\n",
    "CATEGORIES = ['cats', 'dogs', 'chicken']"
   ]
  },
  {
   "cell_type": "code",
   "execution_count": 2,
   "metadata": {
    "execution": {
     "iopub.execute_input": "2023-09-03T13:21:32.745342Z",
     "iopub.status.busy": "2023-09-03T13:21:32.744879Z",
     "iopub.status.idle": "2023-09-03T13:23:38.824025Z",
     "shell.execute_reply": "2023-09-03T13:23:38.823052Z",
     "shell.execute_reply.started": "2023-09-03T13:21:32.745306Z"
    },
    "trusted": true
   },
   "outputs": [],
   "source": [
    "data = []\n",
    "for category in CATEGORIES:\n",
    "    path = os.path.join(DIRECTORY, category)\n",
    "    for img in os.listdir(path):\n",
    "        img_path = os.path.join(path, img)\n",
    "        label = CATEGORIES.index(category)\n",
    "        arr = cv2.imread(img_path, cv2.IMREAD_GRAYSCALE)\n",
    "        new_arr = cv2.resize(arr, (60, 60))\n",
    "        data.append([new_arr, label])"
   ]
  },
  {
   "cell_type": "code",
   "execution_count": 3,
   "metadata": {
    "execution": {
     "iopub.execute_input": "2023-09-03T13:23:38.858402Z",
     "iopub.status.busy": "2023-09-03T13:23:38.857969Z",
     "iopub.status.idle": "2023-09-03T13:23:38.897529Z",
     "shell.execute_reply": "2023-09-03T13:23:38.896202Z",
     "shell.execute_reply.started": "2023-09-03T13:23:38.858361Z"
    },
    "trusted": true
   },
   "outputs": [],
   "source": [
    "import random\n",
    "\n",
    "random.shuffle(data)"
   ]
  },
  {
   "cell_type": "code",
   "execution_count": 4,
   "metadata": {
    "execution": {
     "iopub.execute_input": "2023-09-03T13:23:38.900997Z",
     "iopub.status.busy": "2023-09-03T13:23:38.900008Z",
     "iopub.status.idle": "2023-09-03T13:23:38.993655Z",
     "shell.execute_reply": "2023-09-03T13:23:38.992320Z",
     "shell.execute_reply.started": "2023-09-03T13:23:38.900963Z"
    },
    "trusted": true
   },
   "outputs": [],
   "source": [
    "X = []\n",
    "y = []\n",
    "for features, label in data:\n",
    "    X.append(features)\n",
    "    y.append(label)\n",
    "X = np.array(X)\n",
    "y = np.array(y)"
   ]
  },
  {
   "cell_type": "code",
   "execution_count": 5,
   "metadata": {
    "execution": {
     "iopub.execute_input": "2023-09-03T13:23:39.186984Z",
     "iopub.status.busy": "2023-09-03T13:23:39.186607Z",
     "iopub.status.idle": "2023-09-03T13:23:39.418971Z",
     "shell.execute_reply": "2023-09-03T13:23:39.417544Z",
     "shell.execute_reply.started": "2023-09-03T13:23:39.186954Z"
    },
    "trusted": true
   },
   "outputs": [],
   "source": [
    "pickle.dump(X, open('X.pkl', 'wb'))\n",
    "pickle.dump(y, open('y.pkl', 'wb'))"
   ]
  },
  {
   "cell_type": "code",
   "execution_count": 6,
   "metadata": {
    "execution": {
     "iopub.execute_input": "2023-09-03T13:26:13.942672Z",
     "iopub.status.busy": "2023-09-03T13:26:13.942257Z",
     "iopub.status.idle": "2023-09-03T13:26:14.007449Z",
     "shell.execute_reply": "2023-09-03T13:26:14.005345Z",
     "shell.execute_reply.started": "2023-09-03T13:26:13.942640Z"
    },
    "trusted": true
   },
   "outputs": [],
   "source": [
    "X = pickle.load(open('X.pkl', 'rb'))\n",
    "y = pickle.load(open('y.pkl', 'rb'))"
   ]
  },
  {
   "cell_type": "code",
   "execution_count": 7,
   "metadata": {
    "execution": {
     "iopub.execute_input": "2023-09-03T13:26:28.078838Z",
     "iopub.status.busy": "2023-09-03T13:26:28.078430Z",
     "iopub.status.idle": "2023-09-03T13:26:28.423191Z",
     "shell.execute_reply": "2023-09-03T13:26:28.421831Z",
     "shell.execute_reply.started": "2023-09-03T13:26:28.078797Z"
    },
    "trusted": true
   },
   "outputs": [],
   "source": [
    "X = X/255\n",
    "X = X.reshape(-1, 60, 60, 1)\n"
   ]
  },
  {
   "cell_type": "code",
   "execution_count": 8,
   "metadata": {
    "execution": {
     "iopub.execute_input": "2023-09-03T13:26:37.286442Z",
     "iopub.status.busy": "2023-09-03T13:26:37.285389Z",
     "iopub.status.idle": "2023-09-03T13:26:47.696847Z",
     "shell.execute_reply": "2023-09-03T13:26:47.695836Z",
     "shell.execute_reply.started": "2023-09-03T13:26:37.286402Z"
    },
    "trusted": true
   },
   "outputs": [],
   "source": [
    "from keras.models import Sequential\n",
    "from keras.layers import Conv2D, MaxPooling2D, Dense, Flatten\n",
    "from keras.layers import BatchNormalization\n"
   ]
  },
  {
   "cell_type": "code",
   "execution_count": 9,
   "metadata": {
    "execution": {
     "iopub.execute_input": "2023-09-03T13:26:50.206901Z",
     "iopub.status.busy": "2023-09-03T13:26:50.206452Z",
     "iopub.status.idle": "2023-09-03T13:26:50.229253Z",
     "shell.execute_reply": "2023-09-03T13:26:50.228346Z",
     "shell.execute_reply.started": "2023-09-03T13:26:50.206866Z"
    },
    "trusted": true
   },
   "outputs": [
    {
     "name": "stderr",
     "output_type": "stream",
     "text": [
      "c:\\Users\\Tienn Vo\\AppData\\Local\\Programs\\Python\\Python310\\lib\\site-packages\\keras\\src\\layers\\convolutional\\base_conv.py:107: UserWarning: Do not pass an `input_shape`/`input_dim` argument to a layer. When using Sequential models, prefer using an `Input(shape)` object as the first layer in the model instead.\n",
      "  super().__init__(activity_regularizer=activity_regularizer, **kwargs)\n"
     ]
    }
   ],
   "source": [
    "model = Sequential()\n",
    "\n",
    "model.add(Conv2D(64, (3,3), activation='relu', input_shape=(60, 60, 1)))\n",
    "model.add(MaxPooling2D((2,2)))\n",
    "\n",
    "model.add(Conv2D(64, (3,3), activation='relu'))\n",
    "model.add(MaxPooling2D((2,2)))\n",
    "\n",
    "model.add(Conv2D(128, (3,3), activation='relu'))\n",
    "model.add(MaxPooling2D((2,2)))\n",
    "\n",
    "model.add(Conv2D(128, (3,3), activation='relu'))\n",
    "model.add(MaxPooling2D((2,2)))\n",
    "\n",
    "model.add(Flatten())\n",
    "\n",
    "model.add(Dense(256, activation='relu'))\n",
    "model.add(Dense(256, activation='relu'))\n",
    "\n",
    "model.add(Dense(len(CATEGORIES), activation='softmax'))"
   ]
  },
  {
   "cell_type": "code",
   "execution_count": 10,
   "metadata": {
    "execution": {
     "iopub.execute_input": "2023-09-03T13:27:00.671765Z",
     "iopub.status.busy": "2023-09-03T13:27:00.671394Z",
     "iopub.status.idle": "2023-09-03T13:27:00.705356Z",
     "shell.execute_reply": "2023-09-03T13:27:00.704168Z",
     "shell.execute_reply.started": "2023-09-03T13:27:00.671737Z"
    },
    "trusted": true
   },
   "outputs": [],
   "source": [
    "model.compile(optimizer='adam',\n",
    "              loss='sparse_categorical_crossentropy',\n",
    "              metrics=['accuracy'])"
   ]
  },
  {
   "cell_type": "code",
   "execution_count": 11,
   "metadata": {},
   "outputs": [],
   "source": [
    "# from tensorflow.keras.preprocessing.image import ImageDataGenerator\n",
    "\n",
    "# # Data augmentation\n",
    "# datagen = ImageDataGenerator(\n",
    "#     rotation_range=40,\n",
    "#     width_shift_range=0.3,\n",
    "#     height_shift_range=0.3,\n",
    "#     shear_range=0.3,\n",
    "#     zoom_range=0.3,\n",
    "#     horizontal_flip=True,\n",
    "#     fill_mode=\"nearest\",\n",
    "#     brightness_range=[0.8, 1.2],\n",
    "#     validation_split=0.3\n",
    "# )"
   ]
  },
  {
   "cell_type": "code",
   "execution_count": 12,
   "metadata": {
    "trusted": true
   },
   "outputs": [
    {
     "name": "stdout",
     "output_type": "stream",
     "text": [
      "Epoch 1/20\n",
      "\u001b[1m571/571\u001b[0m \u001b[32m━━━━━━━━━━━━━━━━━━━━\u001b[0m\u001b[37m\u001b[0m \u001b[1m35s\u001b[0m 57ms/step - accuracy: 0.4642 - loss: 0.9519 - val_accuracy: 0.5423 - val_loss: 0.8613\n",
      "Epoch 2/20\n",
      "\u001b[1m571/571\u001b[0m \u001b[32m━━━━━━━━━━━━━━━━━━━━\u001b[0m\u001b[37m\u001b[0m \u001b[1m33s\u001b[0m 57ms/step - accuracy: 0.6000 - loss: 0.7960 - val_accuracy: 0.6585 - val_loss: 0.7301\n",
      "Epoch 3/20\n",
      "\u001b[1m571/571\u001b[0m \u001b[32m━━━━━━━━━━━━━━━━━━━━\u001b[0m\u001b[37m\u001b[0m \u001b[1m33s\u001b[0m 58ms/step - accuracy: 0.6926 - loss: 0.6714 - val_accuracy: 0.7041 - val_loss: 0.6525\n",
      "Epoch 4/20\n",
      "\u001b[1m571/571\u001b[0m \u001b[32m━━━━━━━━━━━━━━━━━━━━\u001b[0m\u001b[37m\u001b[0m \u001b[1m32s\u001b[0m 57ms/step - accuracy: 0.7468 - loss: 0.5733 - val_accuracy: 0.7396 - val_loss: 0.5947\n",
      "Epoch 5/20\n",
      "\u001b[1m571/571\u001b[0m \u001b[32m━━━━━━━━━━━━━━━━━━━━\u001b[0m\u001b[37m\u001b[0m \u001b[1m32s\u001b[0m 56ms/step - accuracy: 0.8004 - loss: 0.4792 - val_accuracy: 0.7040 - val_loss: 0.6850\n",
      "Epoch 6/20\n",
      "\u001b[1m571/571\u001b[0m \u001b[32m━━━━━━━━━━━━━━━━━━━━\u001b[0m\u001b[37m\u001b[0m \u001b[1m32s\u001b[0m 56ms/step - accuracy: 0.8157 - loss: 0.4427 - val_accuracy: 0.7709 - val_loss: 0.5340\n",
      "Epoch 7/20\n",
      "\u001b[1m571/571\u001b[0m \u001b[32m━━━━━━━━━━━━━━━━━━━━\u001b[0m\u001b[37m\u001b[0m \u001b[1m32s\u001b[0m 56ms/step - accuracy: 0.8477 - loss: 0.3828 - val_accuracy: 0.7725 - val_loss: 0.5506\n",
      "Epoch 8/20\n",
      "\u001b[1m571/571\u001b[0m \u001b[32m━━━━━━━━━━━━━━━━━━━━\u001b[0m\u001b[37m\u001b[0m \u001b[1m32s\u001b[0m 56ms/step - accuracy: 0.8694 - loss: 0.3202 - val_accuracy: 0.7760 - val_loss: 0.5522\n",
      "Epoch 9/20\n",
      "\u001b[1m571/571\u001b[0m \u001b[32m━━━━━━━━━━━━━━━━━━━━\u001b[0m\u001b[37m\u001b[0m \u001b[1m32s\u001b[0m 56ms/step - accuracy: 0.8963 - loss: 0.2613 - val_accuracy: 0.7806 - val_loss: 0.6047\n",
      "Epoch 10/20\n",
      "\u001b[1m571/571\u001b[0m \u001b[32m━━━━━━━━━━━━━━━━━━━━\u001b[0m\u001b[37m\u001b[0m \u001b[1m32s\u001b[0m 56ms/step - accuracy: 0.9139 - loss: 0.2232 - val_accuracy: 0.7344 - val_loss: 0.7908\n",
      "Epoch 11/20\n",
      "\u001b[1m571/571\u001b[0m \u001b[32m━━━━━━━━━━━━━━━━━━━━\u001b[0m\u001b[37m\u001b[0m \u001b[1m33s\u001b[0m 58ms/step - accuracy: 0.9253 - loss: 0.1880 - val_accuracy: 0.7727 - val_loss: 0.6949\n",
      "Epoch 12/20\n",
      "\u001b[1m571/571\u001b[0m \u001b[32m━━━━━━━━━━━━━━━━━━━━\u001b[0m\u001b[37m\u001b[0m \u001b[1m32s\u001b[0m 56ms/step - accuracy: 0.9434 - loss: 0.1450 - val_accuracy: 0.7780 - val_loss: 0.7258\n",
      "Epoch 13/20\n",
      "\u001b[1m571/571\u001b[0m \u001b[32m━━━━━━━━━━━━━━━━━━━━\u001b[0m\u001b[37m\u001b[0m \u001b[1m32s\u001b[0m 56ms/step - accuracy: 0.9462 - loss: 0.1401 - val_accuracy: 0.7734 - val_loss: 0.7370\n",
      "Epoch 14/20\n",
      "\u001b[1m571/571\u001b[0m \u001b[32m━━━━━━━━━━━━━━━━━━━━\u001b[0m\u001b[37m\u001b[0m \u001b[1m32s\u001b[0m 57ms/step - accuracy: 0.9598 - loss: 0.1077 - val_accuracy: 0.7585 - val_loss: 0.9011\n",
      "Epoch 15/20\n",
      "\u001b[1m571/571\u001b[0m \u001b[32m━━━━━━━━━━━━━━━━━━━━\u001b[0m\u001b[37m\u001b[0m \u001b[1m32s\u001b[0m 56ms/step - accuracy: 0.9611 - loss: 0.1040 - val_accuracy: 0.7725 - val_loss: 0.8573\n",
      "Epoch 16/20\n",
      "\u001b[1m571/571\u001b[0m \u001b[32m━━━━━━━━━━━━━━━━━━━━\u001b[0m\u001b[37m\u001b[0m \u001b[1m32s\u001b[0m 56ms/step - accuracy: 0.9726 - loss: 0.0750 - val_accuracy: 0.7732 - val_loss: 1.0329\n",
      "Epoch 17/20\n",
      "\u001b[1m571/571\u001b[0m \u001b[32m━━━━━━━━━━━━━━━━━━━━\u001b[0m\u001b[37m\u001b[0m \u001b[1m32s\u001b[0m 56ms/step - accuracy: 0.9746 - loss: 0.0724 - val_accuracy: 0.7635 - val_loss: 1.0135\n",
      "Epoch 18/20\n",
      "\u001b[1m571/571\u001b[0m \u001b[32m━━━━━━━━━━━━━━━━━━━━\u001b[0m\u001b[37m\u001b[0m \u001b[1m32s\u001b[0m 56ms/step - accuracy: 0.9766 - loss: 0.0657 - val_accuracy: 0.7681 - val_loss: 1.0195\n",
      "Epoch 19/20\n",
      "\u001b[1m571/571\u001b[0m \u001b[32m━━━━━━━━━━━━━━━━━━━━\u001b[0m\u001b[37m\u001b[0m \u001b[1m32s\u001b[0m 56ms/step - accuracy: 0.9771 - loss: 0.0659 - val_accuracy: 0.7673 - val_loss: 1.1437\n",
      "Epoch 20/20\n",
      "\u001b[1m571/571\u001b[0m \u001b[32m━━━━━━━━━━━━━━━━━━━━\u001b[0m\u001b[37m\u001b[0m \u001b[1m32s\u001b[0m 56ms/step - accuracy: 0.9803 - loss: 0.0515 - val_accuracy: 0.7642 - val_loss: 1.3628\n"
     ]
    },
    {
     "data": {
      "text/plain": [
       "<keras.src.callbacks.history.History at 0x2509a568ca0>"
      ]
     },
     "execution_count": 12,
     "metadata": {},
     "output_type": "execute_result"
    }
   ],
   "source": [
    "# model.fit(train_generator, epochs=20, validation_data=validation_generator)\n",
    "model.fit(X, y, epochs=20, validation_split=0.3)"
   ]
  },
  {
   "cell_type": "code",
   "execution_count": 13,
   "metadata": {
    "execution": {
     "iopub.execute_input": "2023-09-03T13:44:56.824082Z",
     "iopub.status.busy": "2023-09-03T13:44:56.823656Z",
     "iopub.status.idle": "2023-09-03T13:44:58.224398Z",
     "shell.execute_reply": "2023-09-03T13:44:58.223159Z",
     "shell.execute_reply.started": "2023-09-03T13:44:56.824049Z"
    },
    "trusted": true
   },
   "outputs": [
    {
     "name": "stderr",
     "output_type": "stream",
     "text": [
      "WARNING:absl:You are saving your model as an HDF5 file via `model.save()` or `keras.saving.save_model(model)`. This file format is considered legacy. We recommend using instead the native Keras format, e.g. `model.save('my_model.keras')` or `keras.saving.save_model(model, 'my_model.keras')`. \n"
     ]
    }
   ],
   "source": [
    "model.save(\"model_trained.h5\")"
   ]
  },
  {
   "cell_type": "code",
   "execution_count": 15,
   "metadata": {},
   "outputs": [
    {
     "name": "stdout",
     "output_type": "stream",
     "text": [
      "\u001b[1m816/816\u001b[0m \u001b[32m━━━━━━━━━━━━━━━━━━━━\u001b[0m\u001b[37m\u001b[0m \u001b[1m14s\u001b[0m 17ms/step - accuracy: 0.9577 - loss: 0.1517\n",
      "Loss: 0.4683648943901062\n",
      "Accuracy: 0.9073109030723572\n"
     ]
    }
   ],
   "source": [
    "loss, accuracy = model.evaluate(X, y, verbose=1)\n",
    "\n",
    "print(f\"Loss: {loss}\")\n",
    "print(f\"Accuracy: {accuracy}\")"
   ]
  }
 ],
 "metadata": {
  "kernelspec": {
   "display_name": "Python 3",
   "language": "python",
   "name": "python3"
  },
  "language_info": {
   "codemirror_mode": {
    "name": "ipython",
    "version": 3
   },
   "file_extension": ".py",
   "mimetype": "text/x-python",
   "name": "python",
   "nbconvert_exporter": "python",
   "pygments_lexer": "ipython3",
   "version": "3.10.0"
  }
 },
 "nbformat": 4,
 "nbformat_minor": 4
}
